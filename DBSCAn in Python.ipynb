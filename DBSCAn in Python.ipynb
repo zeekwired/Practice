{
 "cells": [
  {
   "attachments": {},
   "cell_type": "markdown",
   "metadata": {},
   "source": [
    "# Goal:\n",
    "\n",
    "The goal of the following example is to cluster data representing two concentric circles. Our desired clustering is for the outer circle in one cluster and the inner circle in another. Since the KMeans algorithm creates clusters based on proximity to a centroid, it would not be able to perform this clustering. However, DBSCAN, when properly tuned, can perform this kind of non-spherical clustering. To accomplish this, we need to find optimal values for the min_samples and epsilon (eps) hyperparameters for the DBSCAN model.\n",
    "\n",
    "---"
   ]
  },
  {
   "attachments": {},
   "cell_type": "markdown",
   "metadata": {},
   "source": [
    "# DBSCAN\n",
    "1. **Import Libraries.**"
   ]
  },
  {
   "cell_type": "code",
   "execution_count": null,
   "metadata": {},
   "outputs": [],
   "source": [
    "# Imports \n",
    "import numpy as np \n",
    "import matplotlib.pyplot as pyplo\n",
    "from sklearn.preprocessing import StandardScaler\n",
    "from sklearn.cluster import DBSCAN\n",
    "from sklearn.neighbors import NearestNeighbors\n",
    "from sklearn.datasets import make_circles"
   ]
  }
 ],
 "metadata": {
  "kernelspec": {
   "display_name": "base",
   "language": "python",
   "name": "python3"
  },
  "language_info": {
   "name": "python",
   "version": "3.9.13 (main, Aug 25 2022, 23:26:10) \n[GCC 11.2.0]"
  },
  "orig_nbformat": 4,
  "vscode": {
   "interpreter": {
    "hash": "5d64c2950f9e0adfbbee4241f8ddaa1f2ad50146a2c50dd199d5c206672712ee"
   }
  }
 },
 "nbformat": 4,
 "nbformat_minor": 2
}
