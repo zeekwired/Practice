{
 "cells": [
  {
   "attachments": {},
   "cell_type": "markdown",
   "metadata": {},
   "source": [
    "# DBSCAN\n",
    "DBSCAN (Density-Based Spatial Clustering of Applications with Noise) is an algorithm used for clustering.\n",
    "\n",
    "This is a useful algorithm to group high density clusters together, while ignoring data points that may not fit in a cluster (called \"noise). We choose two hyperparameters within this algorithm:\n",
    "\n",
    "You can think of this as a radius that the algorithm searches around a data point to consider adding the data point to its cluster. It is the maximum distance between two samples for one to be considered as in the neighborhood of the other. [Two points are considered to be in the same cluster if the distance between the two points is below the threshold epsilon](https://towardsdatascience.com/machine-learning-clustering-dbscan-determine-the-optimal-value-for-epsilon-eps-python-example-3100091cfbc#:~:text=DBSCAN%20works%20by%20determining%20whether,maximum%20distance%20between%20two%20points) min_samples: The minimum number of points needed to create a cluster.\n",
    "\n",
    "The algorithm works by:\n",
    "\n",
    "1. Picking a random data point to be in a cluster.\n",
    "2. Looking at the points within eps distance from the point in step 1. If there are at least *min_samples* number of data points, these get assigned to that cluster.\n",
    "3. It then looks at each point in the cluster and the points within eps distance of each point get added to the cluster.\n",
    "4. Repeats step 3 until there are no more neighbors within eps distance of each point in the cluster.\n",
    "5. Repeat steps 1-4 for each additional cluster.\n",
    "6. Points that do not meet the distance or min_samples criteria are marked as \"noise\" and are not included as part of a cluster.\n",
    "\n",
    "One benefit of DBSCAN is that you do not need to choose the number of clusters ahead of time, it will find the optimal number of clusters on its own. DBSCAN also produces better results than other clustering algorithms like KMeans for data points where density is more explanatory for clusters than distance. The below image illustrates this:\n",
    "\n",
    "[![image](https://s3.us-east-1.amazonaws.com/General_V88/boomyeah2015/codingdojo/curriculum/content/chapter/1664828768__74451662-d2325000-4e34-11ea-9770-a57e81259eb9.png)]"
   ]
  },
  {
   "attachments": {},
   "cell_type": "markdown",
   "metadata": {},
   "source": [
    "You can visualize how this algorithm works step-by-step [here](https://www.naftaliharris.com/blog/visualizing-dbscan-clustering/). The video below describes the DBSCAN algorithm using this site:"
   ]
  }
 ],
 "metadata": {
  "language_info": {
   "name": "python"
  },
  "orig_nbformat": 4
 },
 "nbformat": 4,
 "nbformat_minor": 2
}
