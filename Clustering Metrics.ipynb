{
 "cells": [
  {
   "attachments": {},
   "cell_type": "markdown",
   "metadata": {},
   "source": [
    "# Clustering Evaluations Metrics\n",
    "\n",
    "In unsupervised learning techniques, such as clustering, there is no reasonable way to measure how good our predictions are since we do not have any true labels to compare to our predictions.\n",
    "\n",
    "For example, let's say you and your friend are in charge of clustering various restaurants together. You group restaurants based on the type of food that is served and your friend groups the restaurants based on ratings. Which of these clustering techniques is correct? Is there even a correct technique?\n",
    "\n",
    "We kind of get around this by creating heuristic metrics to evaluate the clusters that allow us to compare models. It is important to consider working with Subject Matter Experts to confirm the results of your algorithm and think critically about decisions made as a result of your algorithm."
   ]
  },
  {
   "attachments": {},
   "cell_type": "markdown",
   "metadata": {},
   "source": [
    "## Let's check this out in Python.\n",
    "\n",
    "**Note**: A video walkthrough of this code is available at the end of the modele."
   ]
  },
  {
   "cell_type": "code",
   "execution_count": 1,
   "metadata": {},
   "outputs": [],
   "source": [
    "# Imports \n",
    "import numpy as np\n",
    "import pandas as pd\n",
    "import matplotlib.pyplot as plt\n",
    "import seaborn as sns\n",
    "from sklearn.preprocessing import StandardScaler\n",
    "from sklearn.cluster import KMeans\n",
    "from sklearn.metrics import silhouette_score"
   ]
  },
  {
   "attachments": {},
   "cell_type": "markdown",
   "metadata": {},
   "source": [
    "**Note**: In the code below we will only use 2 of the features for clustering. **This is not necessary**.\n",
    "\n",
    "Generally, you would use many or all features for good clustering. Unfortunately, it can be difficult to visualize clusters of many features because they occupy higher dimensional space."
   ]
  },
  {
   "cell_type": "code",
   "execution_count": 2,
   "metadata": {},
   "outputs": [
    {
     "data": {
      "text/html": [
       "<div>\n",
       "<style scoped>\n",
       "    .dataframe tbody tr th:only-of-type {\n",
       "        vertical-align: middle;\n",
       "    }\n",
       "\n",
       "    .dataframe tbody tr th {\n",
       "        vertical-align: top;\n",
       "    }\n",
       "\n",
       "    .dataframe thead th {\n",
       "        text-align: right;\n",
       "    }\n",
       "</style>\n",
       "<table border=\"1\" class=\"dataframe\">\n",
       "  <thead>\n",
       "    <tr style=\"text-align: right;\">\n",
       "      <th></th>\n",
       "      <th>malic_acid</th>\n",
       "      <th>flavanoids</th>\n",
       "    </tr>\n",
       "  </thead>\n",
       "  <tbody>\n",
       "    <tr>\n",
       "      <th>0</th>\n",
       "      <td>1.71</td>\n",
       "      <td>3.06</td>\n",
       "    </tr>\n",
       "    <tr>\n",
       "      <th>1</th>\n",
       "      <td>1.78</td>\n",
       "      <td>2.76</td>\n",
       "    </tr>\n",
       "    <tr>\n",
       "      <th>2</th>\n",
       "      <td>2.36</td>\n",
       "      <td>3.24</td>\n",
       "    </tr>\n",
       "    <tr>\n",
       "      <th>3</th>\n",
       "      <td>1.95</td>\n",
       "      <td>3.49</td>\n",
       "    </tr>\n",
       "    <tr>\n",
       "      <th>4</th>\n",
       "      <td>1.76</td>\n",
       "      <td>3.39</td>\n",
       "    </tr>\n",
       "  </tbody>\n",
       "</table>\n",
       "</div>"
      ],
      "text/plain": [
       "   malic_acid  flavanoids\n",
       "0        1.71        3.06\n",
       "1        1.78        2.76\n",
       "2        2.36        3.24\n",
       "3        1.95        3.49\n",
       "4        1.76        3.39"
      ]
     },
     "execution_count": 2,
     "metadata": {},
     "output_type": "execute_result"
    }
   ],
   "source": [
    "wine = pd.read_csv('https://s3.us-east-1.amazonaws.com/General_V88/boomyeah2015/codingdojo/curriculum/content/chapter/1613254703__modified_wine.csv')\n",
    "df = wine[['malic_acid', 'flavanoids']]\n",
    "df.head()"
   ]
  },
  {
   "cell_type": "code",
   "execution_count": 3,
   "metadata": {},
   "outputs": [],
   "source": [
    "# Instantiate Standard Scaler\n",
    "scaler = StandardScaler()\n",
    "# Fit & transform data.\n",
    "scaled_df = scaler.fit_transform(df)"
   ]
  },
  {
   "attachments": {},
   "cell_type": "markdown",
   "metadata": {},
   "source": [
    "# Inertia\n",
    "\n",
    "\"Tightness\" is a measure of how similar the data points in a given cluster are to the other data points in the same cluster. One way to evaluate the tightness of clusters is by using a plot of the *inertia* of different numbers of clusters (k values). The *inertia* of a clustering is determined by calculating the distance between each point and its cluster's centroid, squaring those distances, and summing the squares. This determines the 'tightness' of each cluster.\n",
    "\n",
    "While tight clusters (indicated by a low inertia score) are desirable, the lowest inertia is not the best clustering. To understand why to consider that the inertia will always go down if we add more cluster. The more clusters, the lower the inertia score. To take this to the extreme, consider the maximum number of clusters: if each cluster only consisted of one data point, the inerita would be as low as possible. Having too many clusters is not useful and defeats the practical purpose of clustering in the first place. The best clustering is a balance between the lowest number of clusters and the lowest inertia.\n",
    "\n",
    "\n",
    "### Elbow plot (Elbow method)\n",
    "\n",
    "To find the best balance between the tightness of clusters and the number of clusters, we create a plot of the inertia for several choices of k (number of clusters) and look for the \"elbow\" in the graph. The elbow is the place where the dramatic reduction in inertia stats to level off. Fortunately for us KMeans stores the inertia of the clustering as an attribute we can directly access after the model is fitted.\n",
    "\n",
    "The code below shows how to produce a plot of inertia vs. clusters:"
   ]
  },
  {
   "cell_type": "code",
   "execution_count": 4,
   "metadata": {},
   "outputs": [
    {
     "data": {
      "text/plain": [
       "Text(0, 0.5, 'inertia')"
      ]
     },
     "execution_count": 4,
     "metadata": {},
     "output_type": "execute_result"
    },
    {
     "data": {
      "image/png": "[encoded data removed]",
      "text/plain": [
       "<Figure size 640x480 with 1 Axes>"
      ]
     },
     "metadata": {},
     "output_type": "display_data"
    }
   ],
   "source": [
    "# Create an empty list of inertias\n",
    "inertias = []\n",
    "# Loop through k values between 2 and 10 and store the inertias in the list.\n",
    "for k in range(2,11):\n",
    "    kmeans = KMeans(n_clusters=k)\n",
    "    kmeans.fit(scaled_df)\n",
    "    inertias.append(kmeans.inertia_)\n",
    "    \n",
    "# Visualize scores\n",
    "plt.plot(range(2,11), inertias, marker='.')\n",
    "plt.xlabel('clusters')\n",
    "plt.ylabel('inertia')"
   ]
  },
  {
   "attachments": {},
   "cell_type": "markdown",
   "metadata": {},
   "source": [
    "In the above line plot, we see that the graph starts to level off at clusters. This looks similar to the bend in an arm which is why it is called the \"elbow\". Thus, 3 would be one candidate for a good number of clusters.\n",
    "\n",
    "Remember, of course, that the best way to determine good clustering is to explore the clusters and consult a subject matter expert.\n",
    "\n",
    "# Silhouette Score for KMeans\n",
    "\n",
    "Another way to evaluate our clusters is to use the Silhouette Coefficient (commonly referred to as the Silhouette Score). The Silhouette Score is a measurement that takes into account both: how tight and how well-separated each cluster is. It dies this by calculating the distance between each data point and all other data points in that same cluster and by calculating the distance between each data point and the points in the new closest cluster. The best score is 1 (signaling well-defined & well-separated clusters) and the worst is -1.\n",
    "\n",
    "From the [Scikit-Learn documentation for silhouette_score](https://scikit-learn.org/stable/modules/generated/sklearn.metrics.silhouette_score.html)\n",
    "\n",
    "The silhouette Coefficient is calculated using the mean intra-cluster distance (a) and the mean nearest-cluster distance (b) for each sample. The Silhouette Coefficient fro a sample is **(b - a) / max(a, b)**. To clarify, b is the distance between a sample and the nearest cluster that the sample is not a part of. Note that Silhouette Coefficient is only defined if the number of labels is 2 <= n_labels <= n_samples - 1."
   ]
  },
  {
   "cell_type": "code",
   "execution_count": null,
   "metadata": {},
   "outputs": [],
   "source": []
  }
 ],
 "metadata": {
  "kernelspec": {
   "display_name": "Python 3",
   "language": "python",
   "name": "python3"
  },
  "language_info": {
   "codemirror_mode": {
    "name": "ipython",
    "version": 3
   },
   "file_extension": ".py",
   "mimetype": "text/x-python",
   "name": "python",
   "nbconvert_exporter": "python",
   "pygments_lexer": "ipython3",
   "version": "3.9.13"
  },
  "orig_nbformat": 4,
  "vscode": {
   "interpreter": {
    "hash": "48cf4348219c3ab1ead58f7e0a62f92281d5c6fe8aba13a26eacf1fef90ff667"
   }
  }
 },
 "nbformat": 4,
 "nbformat_minor": 2
}
