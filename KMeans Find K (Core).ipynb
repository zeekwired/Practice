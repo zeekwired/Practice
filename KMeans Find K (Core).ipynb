{
 "cells": [
  {
   "attachments": {},
   "cell_type": "markdown",
   "metadata": {},
   "source": [
    "# KMeans: Find K (Core)\n"
   ]
  },
  {
   "attachments": {},
   "cell_type": "markdown",
   "metadata": {},
   "source": [
    "### Intructions\n"
   ]
  },
  {
   "attachments": {},
   "cell_type": "markdown",
   "metadata": {},
   "source": [
    "### **Task**\n",
    "\n",
    "Your task is to perform customer segmentation using KMeans. We are interested in grouping our customers into groups based on similar characteristics. This can help the company effectively allocate marketing resources. We will use customer age, education, years of employment, income, debt, whether they defaulted, and their debt to income ratio to group them into segments.\n",
    "\n",
    "You can download the data [here](https://s3.amazonaws.com/General_V88/boomyeah2015/codingdojo/curriculum/content/chapter/cust_seg.csv). The original data is from this [data source](https://github.com/Nikhil-Adithyan/Customer-Segmentation-with-K-Means).\n",
    "\n",
    "1. Use KMeans to create various customer segments.\n",
    "   1. Use an Elbow Plot of inertia.\n",
    "   2. And a plot of Silhouette Scores.\n",
    "   3. Choose a K based on the results.\n",
    "2. Submit your notebook below.\n"
   ]
  },
  {
   "attachments": {},
   "cell_type": "markdown",
   "metadata": {},
   "source": [
    "### Importing libraries"
   ]
  },
  {
   "cell_type": "code",
   "execution_count": 57,
   "metadata": {},
   "outputs": [],
   "source": [
    "import pandas as pd\n",
    "import numpy as np\n",
    "import matplotlib.pyplot as plt\n",
    "from sklearn.cluster import KMeans\n",
    "from sklearn.metrics import silhouette_score\n",
    "from sklearn.preprocessing import StandardScaler\n",
    "from sklearn.pipeline import make_pipeline\n",
    "from sklearn.model_selection import GridSearchCV"
   ]
  },
  {
   "cell_type": "code",
   "execution_count": 58,
   "metadata": {},
   "outputs": [
    {
     "data": {
      "text/html": [
       "<div>\n",
       "<style scoped>\n",
       "    .dataframe tbody tr th:only-of-type {\n",
       "        vertical-align: middle;\n",
       "    }\n",
       "\n",
       "    .dataframe tbody tr th {\n",
       "        vertical-align: top;\n",
       "    }\n",
       "\n",
       "    .dataframe thead th {\n",
       "        text-align: right;\n",
       "    }\n",
       "</style>\n",
       "<table border=\"1\" class=\"dataframe\">\n",
       "  <thead>\n",
       "    <tr style=\"text-align: right;\">\n",
       "      <th></th>\n",
       "      <th>Age</th>\n",
       "      <th>Edu</th>\n",
       "      <th>Years Employed</th>\n",
       "      <th>Income</th>\n",
       "      <th>Other Debt</th>\n",
       "      <th>Defaulted</th>\n",
       "      <th>Card Debt</th>\n",
       "      <th>DebtIncomeRatio</th>\n",
       "    </tr>\n",
       "  </thead>\n",
       "  <tbody>\n",
       "    <tr>\n",
       "      <th>0</th>\n",
       "      <td>41</td>\n",
       "      <td>2</td>\n",
       "      <td>6</td>\n",
       "      <td>19</td>\n",
       "      <td>1.073</td>\n",
       "      <td>0.0</td>\n",
       "      <td>0.124</td>\n",
       "      <td>6.3</td>\n",
       "    </tr>\n",
       "    <tr>\n",
       "      <th>1</th>\n",
       "      <td>47</td>\n",
       "      <td>1</td>\n",
       "      <td>26</td>\n",
       "      <td>100</td>\n",
       "      <td>8.218</td>\n",
       "      <td>0.0</td>\n",
       "      <td>4.582</td>\n",
       "      <td>12.8</td>\n",
       "    </tr>\n",
       "    <tr>\n",
       "      <th>2</th>\n",
       "      <td>33</td>\n",
       "      <td>2</td>\n",
       "      <td>10</td>\n",
       "      <td>57</td>\n",
       "      <td>5.802</td>\n",
       "      <td>1.0</td>\n",
       "      <td>6.111</td>\n",
       "      <td>20.9</td>\n",
       "    </tr>\n",
       "    <tr>\n",
       "      <th>3</th>\n",
       "      <td>29</td>\n",
       "      <td>2</td>\n",
       "      <td>4</td>\n",
       "      <td>19</td>\n",
       "      <td>0.516</td>\n",
       "      <td>0.0</td>\n",
       "      <td>0.681</td>\n",
       "      <td>6.3</td>\n",
       "    </tr>\n",
       "    <tr>\n",
       "      <th>4</th>\n",
       "      <td>47</td>\n",
       "      <td>1</td>\n",
       "      <td>31</td>\n",
       "      <td>253</td>\n",
       "      <td>8.908</td>\n",
       "      <td>0.0</td>\n",
       "      <td>9.308</td>\n",
       "      <td>7.2</td>\n",
       "    </tr>\n",
       "  </tbody>\n",
       "</table>\n",
       "</div>"
      ],
      "text/plain": [
       "   Age  Edu  Years Employed  Income  Other Debt  Defaulted  Card Debt  \\\n",
       "0   41    2               6      19       1.073        0.0      0.124   \n",
       "1   47    1              26     100       8.218        0.0      4.582   \n",
       "2   33    2              10      57       5.802        1.0      6.111   \n",
       "3   29    2               4      19       0.516        0.0      0.681   \n",
       "4   47    1              31     253       8.908        0.0      9.308   \n",
       "\n",
       "   DebtIncomeRatio  \n",
       "0              6.3  \n",
       "1             12.8  \n",
       "2             20.9  \n",
       "3              6.3  \n",
       "4              7.2  "
      ]
     },
     "execution_count": 58,
     "metadata": {},
     "output_type": "execute_result"
    }
   ],
   "source": [
    "# Loading CSV file into pandas dataframe\n",
    "df = pd.read_csv('cust_seg.csv')\n",
    "# Storing specified columns into cust\n",
    "cust = df[['Age', 'Edu', 'Years Employed', 'Income', 'Other Debt', 'Defaulted', 'Card Debt', 'DebtIncomeRatio']]\n",
    "cust.head()"
   ]
  },
  {
   "cell_type": "code",
   "execution_count": 64,
   "metadata": {},
   "outputs": [
    {
     "name": "stdout",
     "output_type": "stream",
     "text": [
      "<class 'pandas.core.frame.DataFrame'>\n",
      "RangeIndex: 850 entries, 0 to 849\n",
      "Data columns (total 8 columns):\n",
      " #   Column           Non-Null Count  Dtype  \n",
      "---  ------           --------------  -----  \n",
      " 0   Age              850 non-null    int64  \n",
      " 1   Edu              850 non-null    int64  \n",
      " 2   Years Employed   850 non-null    int64  \n",
      " 3   Income           850 non-null    int64  \n",
      " 4   Other Debt       850 non-null    float64\n",
      " 5   Defaulted        850 non-null    float64\n",
      " 6   Card Debt        850 non-null    float64\n",
      " 7   DebtIncomeRatio  850 non-null    float64\n",
      "dtypes: float64(4), int64(4)\n",
      "memory usage: 53.2 KB\n"
     ]
    }
   ],
   "source": [
    "# Checking data set using .info() results\n",
    "cust.info()"
   ]
  },
  {
   "attachments": {},
   "cell_type": "markdown",
   "metadata": {},
   "source": [
    "Looking at the results, it is clear to see that column `'Defaulted'` has NAN values."
   ]
  },
  {
   "attachments": {},
   "cell_type": "markdown",
   "metadata": {},
   "source": [
    "Now I will impute the missing values with the columns mean. The reasoning being over 5% as a rule of thumb, the data with missing values shouldn't be dropped."
   ]
  },
  {
   "cell_type": "code",
   "execution_count": 61,
   "metadata": {},
   "outputs": [
    {
     "name": "stderr",
     "output_type": "stream",
     "text": [
      "/tmp/ipykernel_6448/3590452929.py:1: SettingWithCopyWarning: \n",
      "A value is trying to be set on a copy of a slice from a DataFrame\n",
      "\n",
      "See the caveats in the documentation: https://pandas.pydata.org/pandas-docs/stable/user_guide/indexing.html#returning-a-view-versus-a-copy\n",
      "  cust['Defaulted'].fillna(cust['Defaulted'].mean(), inplace=True)\n"
     ]
    },
    {
     "data": {
      "text/plain": [
       "Age                0\n",
       "Edu                0\n",
       "Years Employed     0\n",
       "Income             0\n",
       "Other Debt         0\n",
       "Defaulted          0\n",
       "Card Debt          0\n",
       "DebtIncomeRatio    0\n",
       "dtype: int64"
      ]
     },
     "execution_count": 61,
     "metadata": {},
     "output_type": "execute_result"
    }
   ],
   "source": [
    "cust['Defaulted'].fillna(cust['Defaulted'].mean(), inplace=True)\n",
    "cust.isna().sum()"
   ]
  },
  {
   "attachments": {},
   "cell_type": "markdown",
   "metadata": {},
   "source": [
    "### KMeans Clustering"
   ]
  },
  {
   "attachments": {},
   "cell_type": "markdown",
   "metadata": {},
   "source": [
    "I will start by creating a Standard Scaler and transforming it onto the cust dataframe."
   ]
  },
  {
   "cell_type": "code",
   "execution_count": 62,
   "metadata": {},
   "outputs": [],
   "source": [
    "scaler = StandardScaler()\n",
    "scaled_df = scaler.fit_transform(cust)"
   ]
  },
  {
   "attachments": {},
   "cell_type": "markdown",
   "metadata": {},
   "source": [
    "The next step is the create 2 for loops that iterate through `n_clusters` and plots the results of Inertias and Silhouette Scores."
   ]
  },
  {
   "cell_type": "code",
   "execution_count": 63,
   "metadata": {},
   "outputs": [
    {
     "data": {
      "image/png": "[encoded data removed]",
      "text/plain": [
       "<Figure size 800x500 with 2 Axes>"
      ]
     },
     "metadata": {},
     "output_type": "display_data"
    }
   ],
   "source": [
    "# Creating lists of inertias and silhouette scores\n",
    "inertias = []\n",
    "silhouette_scores = []\n",
    "\n",
    "# Creating for loop\n",
    "for k in range(2, 16):\n",
    "    # Creating model and setting n_cluster to k\n",
    "    kmeans = KMeans(n_clusters=k, random_state=42)\n",
    "    # Fitting model the Standrad Scaler\n",
    "    kmeans.fit(scaled_df)\n",
    "    # Appending results to inertias list\n",
    "    inertias.append(kmeans.inertia_)\n",
    "    \n",
    "# Creating for loop\n",
    "for s in range(2,16):\n",
    "    # Creating model and setting n_cluster to k\n",
    "    kmeans = KMeans(n_clusters=s, random_state=42)\n",
    "    # Fitting model the Standrad Scaler\n",
    "    kmeans.fit(scaled_df)\n",
    "    # Appending results to silhouette_score list\n",
    "    silhouette_scores.append(silhouette_score(scaled_df, kmeans.labels_))\n",
    "\n",
    "# Setting style for plots\n",
    "with plt.style.context(['seaborn-muted', 'dark_background']):\n",
    "    # Creating subplots and setting figure size\n",
    "    fig, ax = plt.subplots(2, 1, figsize=(8,5))\n",
    "    # Plotting inertias\n",
    "    ax[0].plot(range(2, 16), inertias, marker='o', c='b')\n",
    "    ax[0].set_xlabel('clusters')\n",
    "    ax[0].set_ylabel('ineritas')\n",
    "    # Plotting silhouette_score\n",
    "    ax[1].plot(range(2,16), silhouette_scores, marker='.', c='r')\n",
    "    ax[1].set_xlabel('clusters')\n",
    "    ax[1].set_ylabel('silhouette scores')\n",
    "    plt.tight_layout()\n",
    "    "
   ]
  },
  {
   "attachments": {},
   "cell_type": "markdown",
   "metadata": {},
   "source": [
    "From the results above I would definitely recommend using 2 n_clusters for this model. However, I wouldn't use this in the real world with the score being so low, `0.35`. This would preform badly and probably have major consequences depending on the situation."
   ]
  }
 ],
 "metadata": {
  "kernelspec": {
   "display_name": "base",
   "language": "python",
   "name": "python3"
  },
  "language_info": {
   "codemirror_mode": {
    "name": "ipython",
    "version": 3
   },
   "file_extension": ".py",
   "mimetype": "text/x-python",
   "name": "python",
   "nbconvert_exporter": "python",
   "pygments_lexer": "ipython3",
   "version": "3.9.13"
  },
  "orig_nbformat": 4,
  "vscode": {
   "interpreter": {
    "hash": "5d64c2950f9e0adfbbee4241f8ddaa1f2ad50146a2c50dd199d5c206672712ee"
   }
  }
 },
 "nbformat": 4,
 "nbformat_minor": 2
}
